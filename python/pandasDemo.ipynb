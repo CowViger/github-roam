{
 "cells": [
  {
   "cell_type": "markdown",
   "metadata": {},
   "source": [
    "## pandas的使用"
   ]
  },
  {
   "cell_type": "code",
   "execution_count": 28,
   "metadata": {
    "collapsed": true
   },
   "outputs": [
    {
     "name": "stdout",
     "output_type": "stream",
     "text": [
      "用数组生成Series\n",
      "0    2\n",
      "1    3\n",
      "2   -5\n",
      "3    8\n",
      "dtype: int64\n",
      "[ 2  3 -5  8]\n",
      "RangeIndex(start=0, stop=4, step=1)\n"
     ]
    }
   ],
   "source": [
    "from pandas import Series\n",
    "\n",
    "print(\"用数组生成Series\")\n",
    "obj = Series([2,3,-5,8])\n",
    "print(obj)\n",
    "print(obj.values)\n",
    "print(obj.index)"
   ]
  },
  {
   "cell_type": "code",
   "execution_count": 49,
   "metadata": {
    "collapsed": false
   },
   "outputs": [
    {
     "name": "stdout",
     "output_type": "stream",
     "text": [
      "指定Series的index\n",
      "a    4\n",
      "b    5\n",
      "a   -1\n",
      "c    3\n",
      "dtype: int64\n",
      "\n",
      "Index(['a', 'b', 'a', 'c'], dtype='object')\n",
      "\n",
      "a    4\n",
      "a   -1\n",
      "dtype: int64\n",
      "a    4\n",
      "b    5\n",
      "a   -1\n",
      "c    3\n",
      "d    6\n",
      "dtype: int64\n",
      "\n",
      "c    3\n",
      "a    4\n",
      "a   -1\n",
      "dtype: int64\n",
      "\n",
      "a    4\n",
      "b    5\n",
      "c    3\n",
      "d    6\n",
      "dtype: int64\n",
      "\n",
      "True\n",
      "\n",
      "False\n",
      "\n",
      "3\n"
     ]
    }
   ],
   "source": [
    "print('指定Series的index')\n",
    "obj2 = Series([4,5,-1,3],index = ['a','b','a','c'])\n",
    "print(obj2)\n",
    "print()\n",
    "print(obj2.index)\n",
    "print()\n",
    "print(obj2['a'])\n",
    "\n",
    "obj2['d'] = 6#新增一列\n",
    "print(obj2)\n",
    "print()\n",
    "print(obj2[['c','a']]) #用list作为一组索引\n",
    "print()\n",
    "print(obj2[obj2>0]) #使用逻辑不等式作为筛选条件\n",
    "print()\n",
    "print('b' in obj2)#判断索引是否存在\n",
    "print()\n",
    "print('e' in obj2)\n",
    "print()\n",
    "print(obj2.ix['c'])"
   ]
  },
  {
   "cell_type": "code",
   "execution_count": 20,
   "metadata": {
    "collapsed": true
   },
   "outputs": [
    {
     "name": "stdout",
     "output_type": "stream",
     "text": [
      "使用字典生成Series\n",
      "Ohio      45000\n",
      "Oregon    16000\n",
      "Texas     71000\n",
      "Utah       5000\n",
      "dtype: int64\n"
     ]
    }
   ],
   "source": [
    "print(\"使用字典生成Series\")\n",
    "sdata = {'Ohio':45000, 'Texas':71000, 'Oregon':16000, 'Utah':5000}#字典\n",
    "obj3 = Series(sdata)\n",
    "print(obj3)"
   ]
  },
  {
   "cell_type": "code",
   "execution_count": 21,
   "metadata": {
    "collapsed": true
   },
   "outputs": [
    {
     "name": "stdout",
     "output_type": "stream",
     "text": [
      "使用字典生成Series，并额外指定index，不匹配的为NaN\n",
      "California        NaN\n",
      "Ohio          45000.0\n",
      "Oregon        16000.0\n",
      "Texas         71000.0\n",
      "dtype: float64\n"
     ]
    }
   ],
   "source": [
    "print(\"使用字典生成Series，并额外指定index，不匹配的为NaN\")\n",
    "states = ['California', 'Ohio', 'Oregon', 'Texas']\n",
    "obj4 = Series(sdata,index = states)\n",
    "print(obj4)"
   ]
  },
  {
   "cell_type": "code",
   "execution_count": 22,
   "metadata": {
    "collapsed": true
   },
   "outputs": [
    {
     "name": "stdout",
     "output_type": "stream",
     "text": [
      "Series相加，相同的索引部分相加\n",
      "California         NaN\n",
      "Ohio           90000.0\n",
      "Oregon         32000.0\n",
      "Texas         142000.0\n",
      "Utah               NaN\n",
      "dtype: float64\n"
     ]
    }
   ],
   "source": [
    "print('Series相加，相同的索引部分相加')\n",
    "print(obj3+obj4)"
   ]
  },
  {
   "cell_type": "code",
   "execution_count": 23,
   "metadata": {
    "collapsed": false
   },
   "outputs": [
    {
     "name": "stdout",
     "output_type": "stream",
     "text": [
      "指定Series及其索引的名字\n",
      "state\n",
      "California        NaN\n",
      "Ohio          45000.0\n",
      "Oregon        16000.0\n",
      "Texas         71000.0\n",
      "Name: population, dtype: float64\n"
     ]
    }
   ],
   "source": [
    "print(\"指定Series及其索引的名字\")\n",
    "obj4.name = 'population'\n",
    "obj4.index.name = 'state'\n",
    "print(obj4)"
   ]
  },
  {
   "cell_type": "code",
   "execution_count": 29,
   "metadata": {
    "collapsed": true
   },
   "outputs": [
    {
     "name": "stdout",
     "output_type": "stream",
     "text": [
      "替换index\n",
      "0    2\n",
      "1    3\n",
      "2   -5\n",
      "3    8\n",
      "dtype: int64\n",
      "\n",
      "Bob      2\n",
      "Steve    3\n",
      "Jeff    -5\n",
      "Ryan     8\n",
      "dtype: int64\n"
     ]
    }
   ],
   "source": [
    "print('替换index')\n",
    "print(obj)\n",
    "print()\n",
    "obj.index =  ['Bob', 'Steve', 'Jeff', 'Ryan']\n",
    "print(obj)"
   ]
  },
  {
   "cell_type": "markdown",
   "metadata": {},
   "source": [
    "## DataFrame"
   ]
  },
  {
   "cell_type": "code",
   "execution_count": 34,
   "metadata": {
    "collapsed": false
   },
   "outputs": [
    {
     "name": "stdout",
     "output_type": "stream",
     "text": [
      "用字典生成DataFrame,key为列的名字\n",
      "   pop   state  year\n",
      "0  1.5    Ohio  2000\n",
      "1  1.7    Ohio  2001\n",
      "2  3.6    Ohio  2002\n",
      "3  2.4  Nevada  2001\n",
      "4  2.9  Nevada  2002\n",
      "\n",
      "   year   state  pop\n",
      "0  2000    Ohio  1.5\n",
      "1  2001    Ohio  1.7\n",
      "2  2002    Ohio  3.6\n",
      "3  2001  Nevada  2.4\n",
      "4  2002  Nevada  2.9\n"
     ]
    }
   ],
   "source": [
    "import numpy as np\n",
    "from pandas import Series, DataFrame\n",
    "\n",
    "print('用字典生成DataFrame,key为列的名字')\n",
    "data = {'state':['Ohio', 'Ohio', 'Ohio', 'Nevada', 'Nevada'],\n",
    "        'year':[2000, 2001, 2002, 2001, 2002],\n",
    "        'pop':[1.5, 1.7, 3.6, 2.4, 2.9]}\n",
    "print(DataFrame(data))\n",
    "print()\n",
    "print(DataFrame(data,columns = ['year','state','pop'])) #指定列的顺序"
   ]
  },
  {
   "cell_type": "code",
   "execution_count": 52,
   "metadata": {
    "collapsed": true
   },
   "outputs": [
    {
     "name": "stdout",
     "output_type": "stream",
     "text": [
      "指定索引，在列中指定不存在的列，默认数据用NaN\n",
      "       year   state  pop debt\n",
      "one    2000    Ohio  1.5  NaN\n",
      "two    2001    Ohio  1.7  NaN\n",
      "three  2002    Ohio  3.6  NaN\n",
      "four   2001  Nevada  2.4  NaN\n",
      "five   2002  Nevada  2.9  NaN\n",
      "\n",
      "one        Ohio\n",
      "two        Ohio\n",
      "three      Ohio\n",
      "four     Nevada\n",
      "five     Nevada\n",
      "Name: state, dtype: object\n",
      "\n",
      "one      2000\n",
      "two      2001\n",
      "three    2002\n",
      "four     2001\n",
      "five     2002\n",
      "Name: year, dtype: int64\n",
      "\n",
      "year     2002\n",
      "state    Ohio\n",
      "pop       3.6\n",
      "debt      NaN\n",
      "Name: three, dtype: object\n",
      "\n",
      "       year   state  pop  debt\n",
      "one    2000    Ohio  1.5  16.5\n",
      "two    2001    Ohio  1.7  16.5\n",
      "three  2002    Ohio  3.6  16.5\n",
      "four   2001  Nevada  2.4  16.5\n",
      "five   2002  Nevada  2.9  16.5\n",
      "\n",
      "       year   state  pop  debt\n",
      "one    2000    Ohio  1.5     0\n",
      "two    2001    Ohio  1.7     1\n",
      "three  2002    Ohio  3.6     2\n",
      "four   2001  Nevada  2.4     3\n",
      "five   2002  Nevada  2.9     4\n"
     ]
    }
   ],
   "source": [
    "print('指定索引，在列中指定不存在的列，默认数据用NaN')\n",
    "frame2 = DataFrame(data,\n",
    "                  columns = ['year','state','pop','debt'],\n",
    "                  index = ['one','two','three','four','five'])\n",
    "print(frame2)\n",
    "print()\n",
    "print(frame2['state'])\n",
    "print()\n",
    "print(frame2.year)\n",
    "print()\n",
    "print(frame2.ix['three'])#索引的使用\n",
    "print()\n",
    "frame2['debt'] = 16.5 #修改一整列的数据\n",
    "print(frame2)\n",
    "print()\n",
    "frame2.debt = np.arange(5) #用numpy数组范围函数修改一整列\n",
    "print(frame2)"
   ]
  },
  {
   "cell_type": "code",
   "execution_count": 53,
   "metadata": {
    "collapsed": false
   },
   "outputs": [
    {
     "name": "stdout",
     "output_type": "stream",
     "text": [
      "用Series指定要修改的索引及其对应的值，没有指定的默认数据用NaN\n",
      "       year   state  pop  debt\n",
      "one    2000    Ohio  1.5   NaN\n",
      "two    2001    Ohio  1.7  -1.2\n",
      "three  2002    Ohio  3.6   NaN\n",
      "four   2001  Nevada  2.4  -1.5\n",
      "five   2002  Nevada  2.9  -1.7\n"
     ]
    }
   ],
   "source": [
    "print('用Series指定要修改的索引及其对应的值，没有指定的默认数据用NaN')\n",
    "val = Series([-1.2, -1.5, -1.7], index = ['two', 'four', 'five'])\n",
    "frame2['debt'] = val\n",
    "print(frame2)"
   ]
  },
  {
   "cell_type": "code",
   "execution_count": 114,
   "metadata": {
    "collapsed": false
   },
   "outputs": [
    {
     "name": "stdout",
     "output_type": "stream",
     "text": [
      "赋值给新列\n",
      "       year   state  pop  debt eastern\n",
      "one    2000    Ohio  1.5   NaN    True\n",
      "two    2001    Ohio  1.7  -1.2    True\n",
      "three  2002    Ohio  3.6   NaN    True\n",
      "four   2001  Nevada  2.4  -1.5   False\n",
      "five   2002  Nevada  2.9  -1.7   False\n",
      "\n",
      "Index(['year', 'state', 'pop', 'debt', 'eastern'], dtype='object')\n"
     ]
    }
   ],
   "source": [
    "print(\"赋值给新列\")\n",
    "frame2['eastern'] = (frame2.state == 'Ohio') # 如果state等于Ohio为True\n",
    "print(frame2)\n",
    "print()\n",
    "print(frame2.columns)"
   ]
  },
  {
   "cell_type": "code",
   "execution_count": 123,
   "metadata": {
    "collapsed": false
   },
   "outputs": [
    {
     "name": "stdout",
     "output_type": "stream",
     "text": [
      "新增列\n",
      "       year   state  pop  debt eastern    xz\n",
      "one    2000    Ohio  1.5   NaN    True  True\n",
      "two    2001    Ohio  1.7  -1.2    True  True\n",
      "three  2002    Ohio  3.6   NaN    True  True\n",
      "four   2001  Nevada  2.4  -1.5   False  True\n",
      "five   2002  Nevada  2.9  -1.7   False  True\n",
      "删除列\n",
      "       year   state  pop  debt eastern\n",
      "one    2000    Ohio  1.5   NaN    True\n",
      "two    2001    Ohio  1.7  -1.2    True\n",
      "three  2002    Ohio  3.6   NaN    True\n",
      "four   2001  Nevada  2.4  -1.5   False\n",
      "five   2002  Nevada  2.9  -1.7   False\n"
     ]
    }
   ],
   "source": [
    "print('新增列')\n",
    "frame2['xz'] = True\n",
    "print(frame2)\n",
    "print('删除列')\n",
    "#del frame2['xz'] #二者取其一\n",
    "frame2 = frame2.drop('xz',1)\n",
    "print(frame2)"
   ]
  },
  {
   "cell_type": "code",
   "execution_count": 60,
   "metadata": {
    "collapsed": false
   },
   "outputs": [
    {
     "name": "stdout",
     "output_type": "stream",
     "text": [
      "DataFrame转置\n",
      "      Nevada  Ohio\n",
      "2000     NaN   1.5\n",
      "2001     2.4   1.7\n",
      "2002     2.9   3.6\n",
      "\n",
      "        2000  2001  2002\n",
      "Nevada   NaN   2.4   2.9\n",
      "Ohio     1.5   1.7   3.6\n"
     ]
    }
   ],
   "source": [
    "print('DataFrame转置')\n",
    "pop = {'Nevada':{2001:2.4, 2002:2.9},\n",
    "        'Ohio':{2000:1.5, 2001:1.7, 2002:3.6}}\n",
    "frame3 = DataFrame(pop)\n",
    "print(frame3)\n",
    "print()\n",
    "print(frame3.T)"
   ]
  },
  {
   "cell_type": "code",
   "execution_count": 70,
   "metadata": {
    "collapsed": false
   },
   "outputs": [
    {
     "name": "stdout",
     "output_type": "stream",
     "text": [
      "指定索引的顺序，以及使用切片初始化数据\n",
      "      Nevada  Ohio\n",
      "2001     2.4   1.7\n",
      "2002     2.9   3.6\n",
      "2003     NaN   NaN\n",
      "\n",
      "2000    1.5\n",
      "2001    1.7\n",
      "Name: Ohio, dtype: float64\n",
      "2000    NaN\n",
      "2001    2.4\n",
      "Name: Nevada, dtype: float64\n",
      "\n",
      "\n",
      "      Nevada  Ohio\n",
      "2000     NaN   1.5\n",
      "2001     2.4   1.7\n"
     ]
    }
   ],
   "source": [
    "print('指定索引的顺序，以及使用切片初始化数据')\n",
    "print(DataFrame(pop,index = [2001,2002,2003]))\n",
    "print()\n",
    "print(frame3['Ohio'][:-1]) # 指定列和行的索引\n",
    "print(frame3['Nevada'][:2])\n",
    "print()\n",
    "pdata = {'Ohio':frame3['Ohio'][:-1], 'Nevada':frame3['Nevada'][:2]}\n",
    "print()\n",
    "print(DataFrame(pdata))"
   ]
  },
  {
   "cell_type": "code",
   "execution_count": 77,
   "metadata": {
    "collapsed": false
   },
   "outputs": [
    {
     "name": "stdout",
     "output_type": "stream",
     "text": [
      "指定索引列的名称\n",
      "state  Nevada  Ohio\n",
      "year               \n",
      "2000      NaN   1.5\n",
      "2001      2.4   1.7\n",
      "2002      2.9   3.6\n",
      "\n",
      "[[ nan  1.5]\n",
      " [ 2.4  1.7]\n",
      " [ 2.9  3.6]]\n",
      "\n",
      "[[2000 'Ohio' 1.5 nan True]\n",
      " [2001 'Ohio' 1.7 -1.2 True]\n",
      " [2002 'Ohio' 3.6 nan True]\n",
      " [2001 'Nevada' 2.4 -1.5 False]\n",
      " [2002 'Nevada' 2.9 -1.7 False]]\n"
     ]
    }
   ],
   "source": [
    "print('指定索引列的名称')\n",
    "frame3.index.name = 'year'\n",
    "frame3.columns.name = 'state'\n",
    "print(frame3)\n",
    "print()\n",
    "print(frame3.values)\n",
    "print()\n",
    "print(frame2.values)"
   ]
  },
  {
   "cell_type": "code",
   "execution_count": 113,
   "metadata": {
    "collapsed": false
   },
   "outputs": [
    {
     "name": "stdout",
     "output_type": "stream",
     "text": [
      "       year   state  pop  debt eastern\n",
      "one    2000    Ohio  1.5   NaN    True\n",
      "two    2001    Ohio  1.7  -1.2    True\n",
      "three  2002    Ohio  3.6   NaN    True\n",
      "four   2001  Nevada  2.4  -1.5   False\n",
      "five   2002  Nevada  2.9  -1.7   False\n",
      "根据索引号与名称筛选数据\n",
      "\n",
      "\n",
      "       year state  pop  debt eastern\n",
      "one    2000  Ohio  1.5   NaN    True\n",
      "two    2001  Ohio  1.7  -1.2    True\n",
      "three  2002  Ohio  3.6   NaN    True\n",
      "\n",
      "       year   state  pop  debt eastern\n",
      "three  2002    Ohio  3.6   NaN    True\n",
      "five   2002  Nevada  2.9  -1.7   False\n"
     ]
    }
   ],
   "source": [
    "print(frame2)\n",
    "print(\"根据索引号与名称筛选数据\")\n",
    "print()\n",
    "frame2.ix[0:3, ['year','pop']]\n",
    "print()\n",
    "print(frame2[frame2.eastern])\n",
    "print()\n",
    "#print((frame2['year']>2001) & (frame2['pop']>2.4))\n",
    "print(frame2[(frame2['year']>2001) & (frame2['pop']>2.4)])#使用逻辑与筛选条件"
   ]
  },
  {
   "cell_type": "code",
   "execution_count": 124,
   "metadata": {
    "collapsed": false
   },
   "outputs": [
    {
     "data": {
      "text/html": [
       "<div>\n",
       "<table border=\"1\" class=\"dataframe\">\n",
       "  <thead>\n",
       "    <tr style=\"text-align: right;\">\n",
       "      <th></th>\n",
       "      <th>year</th>\n",
       "      <th>state</th>\n",
       "      <th>pop</th>\n",
       "      <th>debt</th>\n",
       "      <th>eastern</th>\n",
       "    </tr>\n",
       "  </thead>\n",
       "  <tbody>\n",
       "    <tr>\n",
       "      <th>one</th>\n",
       "      <td>2000</td>\n",
       "      <td>Ohio</td>\n",
       "      <td>1.5</td>\n",
       "      <td>NaN</td>\n",
       "      <td>True</td>\n",
       "    </tr>\n",
       "    <tr>\n",
       "      <th>two</th>\n",
       "      <td>2001</td>\n",
       "      <td>Ohio</td>\n",
       "      <td>1.7</td>\n",
       "      <td>-1.2</td>\n",
       "      <td>True</td>\n",
       "    </tr>\n",
       "  </tbody>\n",
       "</table>\n",
       "</div>"
      ],
      "text/plain": [
       "     year state  pop  debt eastern\n",
       "one  2000  Ohio  1.5   NaN    True\n",
       "two  2001  Ohio  1.7  -1.2    True"
      ]
     },
     "execution_count": 124,
     "metadata": {},
     "output_type": "execute_result"
    }
   ],
   "source": [
    "frame2.head(2)"
   ]
  },
  {
   "cell_type": "code",
   "execution_count": 144,
   "metadata": {
    "collapsed": true
   },
   "outputs": [
    {
     "name": "stdout",
     "output_type": "stream",
     "text": [
      "       year   state  pop debt eastern\n",
      "one    2000    Ohio  1.5  NaN    True\n",
      "two    2001    Ohio  1.7 -1.2    True\n",
      "three  2002    Ohio  3.6  NaN    True\n",
      "four   2001  Nevada  2.4 -1.5   False\n",
      "five   2002  Nevada  2.9 -1.7   False\n",
      "新增一行\n",
      "       year   state  pop debt eastern\n",
      "one    2000    Ohio  1.5  NaN    True\n",
      "two    2001    Ohio  1.7 -1.2    True\n",
      "three  2002    Ohio  3.6  NaN    True\n",
      "four   2001  Nevada  2.4 -1.5   False\n",
      "five   2002  Nevada  2.9 -1.7   False\n",
      "six    2000  Nevada  1.5 -1.2    True\n",
      "删除一行\n",
      "       year   state  pop debt eastern\n",
      "one    2000    Ohio  1.5  NaN    True\n",
      "two    2001    Ohio  1.7 -1.2    True\n",
      "three  2002    Ohio  3.6  NaN    True\n",
      "four   2001  Nevada  2.4 -1.5   False\n",
      "five   2002  Nevada  2.9 -1.7   False\n"
     ]
    }
   ],
   "source": [
    "print(frame2)\n",
    "print('新增一行')\n",
    "fream2 = frame2.loc['six'] ={'year':2000,'state':'Nevada','pop':1.5,'debt':-1.2,'eastern':True}\n",
    "print(frame2)\n",
    "print('删除一行')\n",
    "frame2 = frame2.drop('six')\n",
    "print(frame2)\n"
   ]
  },
  {
   "cell_type": "code",
   "execution_count": 163,
   "metadata": {
    "collapsed": true
   },
   "outputs": [
    {
     "name": "stdout",
     "output_type": "stream",
     "text": [
      "检查字段是否有缺失值\n",
      "state  Nevada  Ohio\n",
      "year               \n",
      "2000      NaN   1.5\n",
      "2001      2.4   1.7\n",
      "2002      2.9   3.6\n",
      "\n",
      "year\n",
      "2000     True\n",
      "2001    False\n",
      "2002    False\n",
      "Name: Nevada, dtype: bool\n",
      "\n",
      "state\n",
      "Nevada     True\n",
      "Ohio      False\n",
      "dtype: bool\n",
      "计算缺失值\n"
     ]
    },
    {
     "data": {
      "text/plain": [
       "1"
      ]
     },
     "execution_count": 163,
     "metadata": {},
     "output_type": "execute_result"
    }
   ],
   "source": [
    "print('检查字段是否有缺失值')\n",
    "print(frame3)\n",
    "print()\n",
    "print(frame3['Nevada'].isnull())\n",
    "print()\n",
    "print(frame3.isnull().any())\n",
    "print('计算缺失值')\n",
    "frame3.Nevada.isnull().sum()"
   ]
  },
  {
   "cell_type": "markdown",
   "metadata": {},
   "source": [
    "## 缺失值的舍弃\n",
    "### 舍弃含有任意缺失值的行   df.dropna() \n",
    "### 舍弃所有字段都含有缺失值的行  df.dropna(how = 'all')\n",
    "### 舍弃超过两栏缺失值的行     df.dropna(thresh = 2 )\n",
    "### 舍弃皆为缺失值的列            df.dropna(axis = 1,hou = 'all')\n",
    "### 用0填补缺失值                     df.fillna(0)\n",
    "### 使用平均数缺失值                df.fillna(df['age'].mean())\n",
    "### 按照线性规律进行缺失值的填充   df.interpolate()   内插方法具体参看文档"
   ]
  },
  {
   "cell_type": "code",
   "execution_count": null,
   "metadata": {
    "collapsed": true
   },
   "outputs": [],
   "source": []
  }
 ],
 "metadata": {
  "anaconda-cloud": {},
  "kernelspec": {
   "display_name": "Python [default]",
   "language": "python",
   "name": "python3"
  },
  "language_info": {
   "codemirror_mode": {
    "name": "ipython",
    "version": 3
   },
   "file_extension": ".py",
   "mimetype": "text/x-python",
   "name": "python",
   "nbconvert_exporter": "python",
   "pygments_lexer": "ipython3",
   "version": "3.5.2"
  }
 },
 "nbformat": 4,
 "nbformat_minor": 1
}
